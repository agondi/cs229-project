{
 "cells": [
  {
   "cell_type": "code",
   "execution_count": 115,
   "metadata": {},
   "outputs": [],
   "source": [
    "import requests\n",
    "import csv\n",
    "from bs4 import BeautifulSoup"
   ]
  },
  {
   "cell_type": "code",
   "execution_count": 106,
   "metadata": {},
   "outputs": [],
   "source": [
    "URL = \"https://explorecourses.stanford.edu/print?filter-catalognumber-CS=on&filter-catalognumber-CS=on&q=CS&descriptions=on&schedules=on\"\n",
    "page = requests.get(URL)\n",
    "soup = BeautifulSoup(page.content, 'html.parser')\n",
    "results = soup.find(id='printSearchResults')\n",
    "course_elems = results.find_all(\"div\", class_=\"searchResult\")"
   ]
  },
  {
   "cell_type": "code",
   "execution_count": 237,
   "metadata": {},
   "outputs": [
    {
     "data": {
      "text/plain": [
       "97"
      ]
     },
     "execution_count": 237,
     "metadata": {},
     "output_type": "execute_result"
    }
   ],
   "source": [
    "filename = \"courses.csv\" \n",
    "f = open(filename, \"w\") \n",
    "\n",
    "#write header rows\n",
    "headers = \"Course Number, Course Title, Units, Instructor(s), Terms, Last Offered, Ways, Course Description\\n\" \n",
    "f.write(headers)"
   ]
  },
  {
   "cell_type": "code",
   "execution_count": 238,
   "metadata": {},
   "outputs": [],
   "source": [
    "for course_elem in course_elems:\n",
    "    \n",
    "    waysExist = False\n",
    "    currOffer = False\n",
    "    instructorNamed = False\n",
    "    courseNumber = course_elem.find('span', class_='courseNumber')\n",
    "    remColon = courseNumber.text.find(\":\")\n",
    "    courseNumber = courseNumber.text[:remColon]\n",
    "    courseTitle = course_elem.find('span', class_='courseTitle')\n",
    "    courseDescription = course_elem.find('div', class_='courseDescription')\n",
    "    courseAttribute = course_elem.find_all('div', class_='courseAttributes')\n",
    "    courseAttributes = courseAttribute[0]\n",
    "    if len(courseAttribute) > 1:\n",
    "        instructorNamed = True\n",
    "        instructor = courseAttribute[1]\n",
    "    if \"Last offered\" in courseAttributes.text:\n",
    "        currOffer = True\n",
    "        lastOffered = courseAttributes.text.split(\"|\")[0].split(\"Last offered: \")[1]\n",
    "    if len(courseAttributes.text.split(\"|\")[0].split(\"Terms: \")) > 1:\n",
    "        courseTerms = courseAttributes.text.split(\"|\")[0].split(\"Terms: \")[1]\n",
    "    courseUnits = courseAttributes.text.split(\"|\")[1].split(\"Units:\")[1]\n",
    "    if len(courseAttributes.text.split(\"|\")) > 2:\n",
    "        if \"UG Reqs\" in courseAttributes.text.split(\"|\")[2]:\n",
    "            waysExist = True\n",
    "            courseWays = courseAttributes.text.split(\"|\")[2].split(\"UG Reqs:\")[1].replace(\",\", \"|\")\n",
    "            res = courseWays.find('WAY-')\n",
    "            courseWays = courseWays[res:]\n",
    "    if None in (courseNumber, courseTitle, courseDescription, lastOffered, courseTerms, courseUnits, courseWays):\n",
    "        continue\n",
    "    f.write(courseNumber.strip() + \",\" + courseTitle.text.strip().replace(\",\", \"|\") + \",\" + courseUnits.strip() + \", \")\n",
    "    if instructorNamed == True: \n",
    "        f.write(instructor.text.strip().split(\"Instructors: ; \")[1].replace(\",\", \" \") + \", \")\n",
    "    else:\n",
    "        f.write(\" \" + \", \")\n",
    "    if currOffer == False: \n",
    "        f.write(courseTerms.strip().replace(\",\", \"|\") + \", \")\n",
    "    else:\n",
    "        f.write(\" \" + \", \")\n",
    "    if currOffer == True: \n",
    "        f.write(lastOffered.strip() + \", \")\n",
    "    else:\n",
    "        f.write(\" \" + \", \")\n",
    "    if waysExist == True: \n",
    "        f.write(courseWays.strip()+ \", \")\n",
    "    else:\n",
    "        f.write(\" \" + \", \")\n",
    "    f.write(courseDescription.text.strip().replace(\",\", \" \") +  \"\\n\")"
   ]
  },
  {
   "cell_type": "code",
   "execution_count": null,
   "metadata": {},
   "outputs": [],
   "source": [
    "\n",
    "  \n",
    "   \n",
    "    "
   ]
  }
 ],
 "metadata": {
  "kernelspec": {
   "display_name": "Python 3",
   "language": "python",
   "name": "python3"
  },
  "language_info": {
   "codemirror_mode": {
    "name": "ipython",
    "version": 3
   },
   "file_extension": ".py",
   "mimetype": "text/x-python",
   "name": "python",
   "nbconvert_exporter": "python",
   "pygments_lexer": "ipython3",
   "version": "3.7.7"
  }
 },
 "nbformat": 4,
 "nbformat_minor": 4
}
